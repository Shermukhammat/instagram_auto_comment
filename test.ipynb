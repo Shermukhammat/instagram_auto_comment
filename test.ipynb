{
 "cells": [
  {
   "cell_type": "code",
   "execution_count": 1,
   "id": "cd1eb846-55b2-4e33-8f70-3ff912697740",
   "metadata": {},
   "outputs": [],
   "source": [
    "import requests \n",
    "from config import INSTAGRAM_TOKEN as TOKEN\n",
    "from config import TOKEN as API_TOKEN "
   ]
  },
  {
   "cell_type": "code",
   "execution_count": 32,
   "id": "ead42579-5a8a-487a-879d-4e2cb647150b",
   "metadata": {},
   "outputs": [],
   "source": [
    "# Received data: {'entry': [{'id': '17841466514688169', 'time': 1726068893, 'changes': [{'value': {'from': {'id': '884712273577600', 'username': 'hfdggdhdd'}, 'media': {'id': '18282001423225695', 'media_product_type': 'REELS'}, 'id': '18006796052640585', 'text': 'salom webhook'}, 'field': 'comments'}]}], 'object': 'instagram'}\n",
    "# INFO:     31.13.115.10:0 - \"POST /webhooks HTTP/1.0\" 200 OK\n",
    "\n",
    "# Received data:\n",
    "a = \"\"\"\n",
    "{\n",
    "    'entry': [\n",
    "        {\n",
    "            'id': '17841466514688169',\n",
    "            'time': 1726068893,\n",
    "            'changes': [\n",
    "                {\n",
    "                    'value': {\n",
    "                        'from': {\n",
    "                            'id': '884712273577600',\n",
    "                            'username': 'hfdggdhdd'\n",
    "                        },\n",
    "                        'media': {\n",
    "                            'id': '18282001423225695',\n",
    "                            'media_product_type': 'REELS'\n",
    "                        },\n",
    "                        'id': '18006796052640585',\n",
    "                        'text': 'salom webhook',\n",
    "                        'field': 'comments'\n",
    "                    }\n",
    "                }\n",
    "            ]\n",
    "        }\n",
    "    ],\n",
    "    'object': 'instagram'\n",
    "}\n",
    "\"\"\"\n",
    "# INFO: 31.13.115.10:0 - \"POST /webhooks HTTP/1.0\" 200 OK\n",
    "\n",
    "\n",
    "\n",
    "# Received data: {'entry': [{'id': '17841466514688169', 'time': 1726127592, 'changes': [{'value': {'from': {'id': '8261739847217779', 'username': 'temirov_shermuhammad'}, 'media': {'id': '18282001423225695', 'media_product_type': 'REELS'}, 'id': '18092669098462660', 'text': 'Web hook uchun test komment'}, 'field': 'comments'}]}], 'object': 'instagram'}\n",
    "\n"
   ]
  },
  {
   "cell_type": "code",
   "execution_count": null,
   "id": "6634631e-9ec7-429d-8656-e90836931c1a",
   "metadata": {},
   "outputs": [],
   "source": []
  },
  {
   "cell_type": "code",
   "execution_count": 5,
   "id": "15039aab-c062-43d7-a50c-68d4299b4675",
   "metadata": {},
   "outputs": [
    {
     "data": {
      "text/plain": [
       "<Response [500]>"
      ]
     },
     "execution_count": 5,
     "metadata": {},
     "output_type": "execute_result"
    }
   ],
   "source": [
    "params = {\n",
    "    'access_token' : TOKEN,\n",
    "    # 'fields' : 'caption,comments'\n",
    "}\n",
    "data = {\n",
    "             \"recipient\":{ \n",
    "                 \"comment_id\": \"18092669098462660\" \n",
    "             },\n",
    "             \"message\": { \n",
    "                 \"text\": \"salom men ahmoqmasmana :)\" \n",
    "             }\n",
    "         }\n",
    "\n",
    "response = requests.post(f\"https://graph.instagram.com/v20.0/me/messages\",\n",
    "                       params=params, json=data)\n",
    "response"
   ]
  },
  {
   "cell_type": "code",
   "execution_count": 6,
   "id": "dc75f855-6d70-42e4-917d-dd0e80ecc9a9",
   "metadata": {},
   "outputs": [
    {
     "data": {
      "text/plain": [
       "'{\"error\":{\"message\":\"An unknown error has occurred.\",\"type\":\"OAuthException\",\"code\":1,\"fbtrace_id\":\"AJoeLzO47UDA8l-NHG3qEjg\"}}'"
      ]
     },
     "execution_count": 6,
     "metadata": {},
     "output_type": "execute_result"
    }
   ],
   "source": [
    "response.text"
   ]
  },
  {
   "cell_type": "code",
   "execution_count": 12,
   "id": "edc4113f-0d4d-4cf1-bba5-39c0854c58f9",
   "metadata": {},
   "outputs": [
    {
     "data": {
      "text/plain": [
       "{'error': {'message': 'An unknown error has occurred.',\n",
       "  'type': 'OAuthException',\n",
       "  'code': 1,\n",
       "  'fbtrace_id': 'AJoeLzO47UDA8l-NHG3qEjg'}}"
      ]
     },
     "execution_count": 12,
     "metadata": {},
     "output_type": "execute_result"
    }
   ],
   "source": [
    "response.json()"
   ]
  },
  {
   "cell_type": "code",
   "execution_count": 2,
   "id": "94c4e717-ee5e-4b8f-9a87-40878a63bb77",
   "metadata": {},
   "outputs": [
    {
     "data": {
      "text/plain": [
       "<Response [200]>"
      ]
     },
     "execution_count": 2,
     "metadata": {},
     "output_type": "execute_result"
    }
   ],
   "source": [
    "re = requests.get(f\"https://graph.instagram.com/me/media?fields=id,permalink&access_token={TOKEN}\")\n",
    "re"
   ]
  },
  {
   "cell_type": "code",
   "execution_count": 3,
   "id": "f106152b-7ddb-49cb-9ab8-4b24eb492475",
   "metadata": {},
   "outputs": [
    {
     "data": {
      "text/plain": [
       "{'data': [{'id': '18063770626711667',\n",
       "   'permalink': 'https://www.instagram.com/reel/DA-3xjlumZb/'},\n",
       "  {'id': '17966983718798838',\n",
       "   'permalink': 'https://www.instagram.com/reel/DA8GiAoOnKD/'},\n",
       "  {'id': '17941113437906698',\n",
       "   'permalink': 'https://www.instagram.com/reel/DA7TlprId_d/'},\n",
       "  {'id': '18123545623384095',\n",
       "   'permalink': 'https://www.instagram.com/reel/DA47BAXIk2T/'},\n",
       "  {'id': '18008704823380823',\n",
       "   'permalink': 'https://www.instagram.com/reel/C_XCxGDuBH_/'},\n",
       "  {'id': '18282001423225695',\n",
       "   'permalink': 'https://www.instagram.com/reel/C_S4yWgu8Lx/'},\n",
       "  {'id': '17875092474148737',\n",
       "   'permalink': 'https://www.instagram.com/reel/C_SuaGQOPO6/'},\n",
       "  {'id': '17887595298086494',\n",
       "   'permalink': 'https://www.instagram.com/reel/C_Q5gWpuFUq/'},\n",
       "  {'id': '18274225150173359',\n",
       "   'permalink': 'https://www.instagram.com/reel/C_OTQNEuXJY/'},\n",
       "  {'id': '17874755673148958',\n",
       "   'permalink': 'https://www.instagram.com/reel/C_NDBNhoqQs/'}],\n",
       " 'paging': {'cursors': {'before': 'QVFIUjdrNkNZALWNpdWI2NW1XaGN2TkdaZAjk2RDhFdzdDbDlOaHk5eU1pX3pxc3VKY0pXajhLVFZA5OG4wbzZAKUTJBSHBMd0xFMlhHOGhHRkhXc1gzbUpqMEp3',\n",
       "   'after': 'QVFIUlFWVXYzVGRNc2VQTHBKYmU0T0NoenB6ZAEtKNE5OY2tnb2tKY3REQ003ay1ES2MzbEh6VkcwcU41RE9wbTlSNEhHTG16c1VBMUIxU3dzMjNBT2x0NnFR'}}}"
      ]
     },
     "execution_count": 3,
     "metadata": {},
     "output_type": "execute_result"
    }
   ],
   "source": [
    "re.json()"
   ]
  },
  {
   "cell_type": "code",
   "execution_count": null,
   "id": "631a09c8-2c1b-4dd5-9665-c669ada9851b",
   "metadata": {},
   "outputs": [],
   "source": [
    "https://www.instagram.com/reel/C_xcPitujvt/?utm_source=ig_web_copy_link\n",
    "https://www.instagram.com/p/C_XCxGDuBH_/\n",
    "https://www.instagram.com/reel/C_XCxGDuBH_/?utm_source=ig_web_copy_link&igsh=MzRlODBiNWFlZA==\n",
    "https://www.instagram.com/reel/C_XCxGDuBH_/?utm_source=ig_web_button_share_sheet&igsh=MzRlODBiNWFlZA==\n",
    "https://www.instagram.com/p/CzWq-hutM5d/?utm_source=ig_web_copy_link&igsh=MzRlODBiNWFlZA==\n",
    "https://www.instagram.com/tv/CfOZrWrlpZJ/?utm_source=ig_web_copy_link&igsh=MzRlODBiNWFlZA==\n",
    "https://www.instagram.com/p/C_bAqCvORiN/?igsh=ZmN5bjRqeTZzeXB4\n",
    "https://www.instagram.com/reel/C_kzrwXMVz5/?igsh=aGp1azc4d2V4ZDZ3\n",
    "https://www.instagram.com/reel/C9ORODIyWe9/?igsh=MWZjNmc4OGFoMnJsOQ=="
   ]
  },
  {
   "cell_type": "code",
   "execution_count": null,
   "id": "c3bae7b7-6372-47d5-a758-1ce4ba1f8391",
   "metadata": {},
   "outputs": [],
   "source": [
    "{\n",
    "    'entry': [\n",
    "        {\n",
    "            'id': '17841466514688169',\n",
    "            'time': 1726068893,\n",
    "            'changes': [\n",
    "                {\n",
    "                    'value': {\n",
    "                        'from': {\n",
    "                            'id': '884712273577600',\n",
    "                            'username': 'hfdggdhdd'\n",
    "                        },\n",
    "                        'media': {\n",
    "                            'id': '18282001423225695',\n",
    "                            'media_product_type': 'REELS'\n",
    "                        },\n",
    "                        'id': '18006796052640585',\n",
    "                        'text': 'salom webhook',\n",
    "                        'field': 'comments'\n",
    "                    }\n",
    "                }\n",
    "            ]\n",
    "        }\n",
    "    ],\n",
    "    'object': 'instagram'\n",
    "}"
   ]
  },
  {
   "cell_type": "markdown",
   "id": "d3979840-b701-4ddb-9bf4-3c1a341a5e6a",
   "metadata": {},
   "source": [
    "## Batch request test"
   ]
  },
  {
   "cell_type": "code",
   "execution_count": 51,
   "id": "b5c15e6d-bd59-478a-8821-a0fe4548b36a",
   "metadata": {},
   "outputs": [
    {
     "data": {
      "text/plain": [
       "<Response [200]>"
      ]
     },
     "execution_count": 51,
     "metadata": {},
     "output_type": "execute_result"
    }
   ],
   "source": [
    "params = {\n",
    "    'access_token' : TOKEN,\n",
    "    'fields' : 'user_id,username'\n",
    "}\n",
    "\n",
    "\n",
    "response = requests.get(f\"https://graph.instagram.com/v20.0/me\",\n",
    "                       params=params)\n",
    "response"
   ]
  },
  {
   "cell_type": "code",
   "execution_count": 52,
   "id": "099743e9-081b-467e-b9de-33fc15aa8bda",
   "metadata": {},
   "outputs": [
    {
     "data": {
      "text/plain": [
       "{'user_id': '17841466514688169',\n",
       " 'username': 'filmbufferbot',\n",
       " 'id': '26850537817893205'}"
      ]
     },
     "execution_count": 52,
     "metadata": {},
     "output_type": "execute_result"
    }
   ],
   "source": [
    "response.json()"
   ]
  },
  {
   "cell_type": "code",
   "execution_count": 22,
   "id": "339863a9-4582-4288-b185-06c0589325dc",
   "metadata": {},
   "outputs": [
    {
     "data": {
      "text/plain": [
       "<Response [200]>"
      ]
     },
     "execution_count": 22,
     "metadata": {},
     "output_type": "execute_result"
    }
   ],
   "source": [
    "re = requests.get(f\"https://graph.instagram.com/me/media?fields=id,permalink&access_token={TOKEN}\")\n",
    "re"
   ]
  },
  {
   "cell_type": "code",
   "execution_count": 24,
   "id": "0ac8f8aa-9b90-4051-8aa2-80808efa6c24",
   "metadata": {},
   "outputs": [
    {
     "data": {
      "text/plain": [
       "{'data': [{'id': '18008704823380823',\n",
       "   'permalink': 'https://www.instagram.com/reel/C_XCxGDuBH_/'},\n",
       "  {'id': '18282001423225695',\n",
       "   'permalink': 'https://www.instagram.com/reel/C_S4yWgu8Lx/'},\n",
       "  {'id': '17875092474148737',\n",
       "   'permalink': 'https://www.instagram.com/reel/C_SuaGQOPO6/'},\n",
       "  {'id': '17887595298086494',\n",
       "   'permalink': 'https://www.instagram.com/reel/C_Q5gWpuFUq/'},\n",
       "  {'id': '18274225150173359',\n",
       "   'permalink': 'https://www.instagram.com/reel/C_OTQNEuXJY/'},\n",
       "  {'id': '17874755673148958',\n",
       "   'permalink': 'https://www.instagram.com/reel/C_NDBNhoqQs/'}],\n",
       " 'paging': {'cursors': {'before': 'QVFIUk9TdlI4QjdkOTM3NFhCd2FNZA2R3Rkg0NXRSYnhDX2FSdFdLVkpOb29TLXBmLVRiR0s5M0NSS2tHbU8tVXVocFBRRmFabGpYMHBpNGswNndzTnI4ME9n',\n",
       "   'after': 'QVFIUlFWVXYzVGRNc2VQTHBKYmU0T0NoenB6ZAEtKNE5OY2tnb2tKY3REQ003ay1ES2MzbEh6VkcwcU41RE9wbTlSNEhHTG16c1VBMUIxU3dzMjNBT2x0NnFR'}}}"
      ]
     },
     "execution_count": 24,
     "metadata": {},
     "output_type": "execute_result"
    }
   ],
   "source": [
    "re.json()"
   ]
  },
  {
   "cell_type": "code",
   "execution_count": 41,
   "id": "ac68d249-10a6-4215-bf01-a24bda77c157",
   "metadata": {},
   "outputs": [
    {
     "data": {
      "text/plain": [
       "<Response [200]>"
      ]
     },
     "execution_count": 41,
     "metadata": {},
     "output_type": "execute_result"
    }
   ],
   "source": [
    "re = requests.get(f\"https://graph.instagram.com/18008704823380823?access_token={TOKEN}\")\n",
    "re"
   ]
  },
  {
   "cell_type": "code",
   "execution_count": 42,
   "id": "2c545ed0-5c1c-4973-b821-8cf1419f747e",
   "metadata": {},
   "outputs": [
    {
     "data": {
      "text/plain": [
       "'{\"id\":\"18008704823380823\"}'"
      ]
     },
     "execution_count": 42,
     "metadata": {},
     "output_type": "execute_result"
    }
   ],
   "source": [
    "re.text"
   ]
  },
  {
   "cell_type": "code",
   "execution_count": null,
   "id": "f40cd0bd-92fd-4d13-803c-50840e992332",
   "metadata": {},
   "outputs": [],
   "source": []
  },
  {
   "cell_type": "code",
   "execution_count": 77,
   "id": "82125478-6727-4eaf-9e0a-d51f4d19a542",
   "metadata": {},
   "outputs": [
    {
     "data": {
      "text/plain": [
       "<Response [500]>"
      ]
     },
     "execution_count": 77,
     "metadata": {},
     "output_type": "execute_result"
    }
   ],
   "source": [
    "batch = [\n",
    "        {\n",
    "            \"method\": \"GET\",\n",
    "            \"relative_url\": \"me/media\",\n",
    "            \"body\": f\"fields=id,permalink\"\n",
    "        },\n",
    "        {\n",
    "            \"method\": \"GET\",\n",
    "            \"relative_url\": f\"18008704823380823\",\n",
    "            \"body\": f\"fields=user_id,username\"\n",
    "        }\n",
    "    ]\n",
    "\n",
    "params = {\n",
    "        'access_token': TOKEN,\n",
    "        'batch': batch\n",
    "    }\n",
    "\n",
    "response = requests.get(f\"https://graph.instagram.com/v20.0/batch\",\n",
    "                       params=params)\n",
    "response"
   ]
  },
  {
   "cell_type": "code",
   "execution_count": 78,
   "id": "8f1ebbad-4420-4404-8d46-ed7917ddcaca",
   "metadata": {},
   "outputs": [
    {
     "data": {
      "text/plain": [
       "''"
      ]
     },
     "execution_count": 78,
     "metadata": {},
     "output_type": "execute_result"
    }
   ],
   "source": [
    "response.text"
   ]
  },
  {
   "cell_type": "code",
   "execution_count": 4,
   "id": "f2ce3982-35e9-43e7-b2e3-3308d9464659",
   "metadata": {},
   "outputs": [
    {
     "data": {
      "text/plain": [
       "<Response [200]>"
      ]
     },
     "execution_count": 4,
     "metadata": {},
     "output_type": "execute_result"
    }
   ],
   "source": [
    "params = {\n",
    "        'access_token': TOKEN\n",
    "    }\n",
    "data = {\"message\":\"shaxsiyga kino likni yubordik\"}\n",
    "re = requests.post(f\"https://graph.instagram.com/v20.0/{18092669098462660}/replies\", params = params, json = data)\n",
    "re"
   ]
  },
  {
   "cell_type": "code",
   "execution_count": 5,
   "id": "4ce1b7d7-9f10-45a2-9d1b-c396f9295a5f",
   "metadata": {},
   "outputs": [
    {
     "data": {
      "text/plain": [
       "{'id': '18039250256477236'}"
      ]
     },
     "execution_count": 5,
     "metadata": {},
     "output_type": "execute_result"
    }
   ],
   "source": [
    "re.json()"
   ]
  },
  {
   "cell_type": "code",
   "execution_count": 2,
   "id": "e37de0cf-3f8b-4251-87ec-dbd133bb19c9",
   "metadata": {},
   "outputs": [],
   "source": [
    "import re"
   ]
  },
  {
   "cell_type": "code",
   "execution_count": 4,
   "id": "750608bd-a532-4140-bc2c-28dc9731afb9",
   "metadata": {},
   "outputs": [],
   "source": [
    "code = 'kino'\n",
    "commit = 'Kinoni tahshlang'"
   ]
  },
  {
   "cell_type": "code",
   "execution_count": 13,
   "id": "393be340-d9d5-4d0d-8e5d-794b75870acb",
   "metadata": {},
   "outputs": [
    {
     "data": {
      "text/plain": [
       "<re.Match object; span=(0, 4), match='kino'>"
      ]
     },
     "execution_count": 13,
     "metadata": {},
     "output_type": "execute_result"
    }
   ],
   "source": [
    "match = re.search(code, commit.lower())\n",
    "match"
   ]
  },
  {
   "cell_type": "code",
   "execution_count": 16,
   "id": "03b7b206-e950-4ec6-9524-d477eb64ffc5",
   "metadata": {},
   "outputs": [],
   "source": [
    "parmas = {\n",
    "    'token' : API_TOKEN,\n",
    "    'id' : 'balh',\n",
    "    'instagram_url' : 'wewed.fdfdfs.com',\n",
    "    'movi_url' : 'filmbufferbot/code?=233',\n",
    "    'code': 'kino'\n",
    "}"
   ]
  },
  {
   "cell_type": "code",
   "execution_count": 21,
   "id": "4b56cb86-640c-4c69-907d-8a157fdfe00a",
   "metadata": {},
   "outputs": [],
   "source": [
    "# respons = requests.post(\"http://127.0.0.1:5000/comments\")\n",
    "# respons"
   ]
  },
  {
   "cell_type": "code",
   "execution_count": null,
   "id": "0af4fae6-c80e-4778-a8ab-63fb873eee4b",
   "metadata": {},
   "outputs": [],
   "source": []
  },
  {
   "cell_type": "code",
   "execution_count": null,
   "id": "cb0e1bec-7cfb-4b74-9c52-17b7b53d8284",
   "metadata": {},
   "outputs": [],
   "source": []
  }
 ],
 "metadata": {
  "kernelspec": {
   "display_name": "Python 3 (ipykernel)",
   "language": "python",
   "name": "python3"
  },
  "language_info": {
   "codemirror_mode": {
    "name": "ipython",
    "version": 3
   },
   "file_extension": ".py",
   "mimetype": "text/x-python",
   "name": "python",
   "nbconvert_exporter": "python",
   "pygments_lexer": "ipython3",
   "version": "3.10.12"
  }
 },
 "nbformat": 4,
 "nbformat_minor": 5
}
