{
 "cells": [
  {
   "cell_type": "code",
   "execution_count": 1,
   "id": "cd1eb846-55b2-4e33-8f70-3ff912697740",
   "metadata": {},
   "outputs": [],
   "source": [
    "import requests\n",
    "from config import INSTAGRAM_TOKEN as TOKEN"
   ]
  },
  {
   "cell_type": "code",
   "execution_count": 8,
   "id": "ead42579-5a8a-487a-879d-4e2cb647150b",
   "metadata": {},
   "outputs": [],
   "source": [
    "# Received data: {'entry': [{'id': '17841466514688169', 'time': 1726068893, 'changes': [{'value': {'from': {'id': '884712273577600', 'username': 'hfdggdhdd'}, 'media': {'id': '18282001423225695', 'media_product_type': 'REELS'}, 'id': '18006796052640585', 'text': 'salom webhook'}, 'field': 'comments'}]}], 'object': 'instagram'}\n",
    "# INFO:     31.13.115.10:0 - \"POST /webhooks HTTP/1.0\" 200 OK\n",
    "\n",
    "# Received data:\n",
    "a = \"\"\"\n",
    "{\n",
    "    'entry': [\n",
    "        {\n",
    "            'id': '17841466514688169',\n",
    "            'time': 1726068893,\n",
    "            'changes': [\n",
    "                {\n",
    "                    'value': {\n",
    "                        'from': {\n",
    "                            'id': '884712273577600',\n",
    "                            'username': 'hfdggdhdd'\n",
    "                        },\n",
    "                        'media': {\n",
    "                            'id': '18282001423225695',\n",
    "                            'media_product_type': 'REELS'\n",
    "                        },\n",
    "                        'id': '18006796052640585',\n",
    "                        'text': 'salom webhook',\n",
    "                        'field': 'comments'\n",
    "                    }\n",
    "                }\n",
    "            ]\n",
    "        }\n",
    "    ],\n",
    "    'object': 'instagram'\n",
    "}\n",
    "\"\"\"\n",
    "# INFO: 31.13.115.10:0 - \"POST /webhooks HTTP/1.0\" 200 OK\n",
    "\n",
    "\n",
    "\n",
    "# Received data: {'entry': [{'id': '17841466514688169', 'time': 1726127592, 'changes': [{'value': {'from': {'id': '8261739847217779', 'username': 'temirov_shermuhammad'}, 'media': {'id': '18282001423225695', 'media_product_type': 'REELS'}, 'id': '18092669098462660', 'text': 'Web hook uchun test komment'}, 'field': 'comments'}]}], 'object': 'instagram'}\n",
    "\n"
   ]
  },
  {
   "cell_type": "code",
   "execution_count": null,
   "id": "6634631e-9ec7-429d-8656-e90836931c1a",
   "metadata": {},
   "outputs": [],
   "source": []
  },
  {
   "cell_type": "code",
   "execution_count": 5,
   "id": "15039aab-c062-43d7-a50c-68d4299b4675",
   "metadata": {},
   "outputs": [
    {
     "data": {
      "text/plain": [
       "<Response [500]>"
      ]
     },
     "execution_count": 5,
     "metadata": {},
     "output_type": "execute_result"
    }
   ],
   "source": [
    "params = {\n",
    "    'access_token' : TOKEN,\n",
    "    # 'fields' : 'caption,comments'\n",
    "}\n",
    "data = {\n",
    "             \"recipient\":{ \n",
    "                 \"comment_id\": \"18092669098462660\" \n",
    "             },\n",
    "             \"message\": { \n",
    "                 \"text\": \"salom men ahmoqmasmana :)\" \n",
    "             }\n",
    "         }\n",
    "\n",
    "response = requests.post(f\"https://graph.instagram.com/v20.0/me/messages\",\n",
    "                       params=params, json=data)\n",
    "response"
   ]
  },
  {
   "cell_type": "code",
   "execution_count": 6,
   "id": "dc75f855-6d70-42e4-917d-dd0e80ecc9a9",
   "metadata": {},
   "outputs": [
    {
     "data": {
      "text/plain": [
       "'{\"error\":{\"message\":\"An unknown error has occurred.\",\"type\":\"OAuthException\",\"code\":1,\"fbtrace_id\":\"AJoeLzO47UDA8l-NHG3qEjg\"}}'"
      ]
     },
     "execution_count": 6,
     "metadata": {},
     "output_type": "execute_result"
    }
   ],
   "source": [
    "response.text"
   ]
  },
  {
   "cell_type": "code",
   "execution_count": 12,
   "id": "edc4113f-0d4d-4cf1-bba5-39c0854c58f9",
   "metadata": {},
   "outputs": [
    {
     "data": {
      "text/plain": [
       "{'error': {'message': 'An unknown error has occurred.',\n",
       "  'type': 'OAuthException',\n",
       "  'code': 1,\n",
       "  'fbtrace_id': 'AJoeLzO47UDA8l-NHG3qEjg'}}"
      ]
     },
     "execution_count": 12,
     "metadata": {},
     "output_type": "execute_result"
    }
   ],
   "source": [
    "response.json()"
   ]
  },
  {
   "cell_type": "code",
   "execution_count": 27,
   "id": "94c4e717-ee5e-4b8f-9a87-40878a63bb77",
   "metadata": {},
   "outputs": [
    {
     "data": {
      "text/plain": [
       "<Response [200]>"
      ]
     },
     "execution_count": 27,
     "metadata": {},
     "output_type": "execute_result"
    }
   ],
   "source": [
    "re = requests.get(f\"https://graph.instagram.com/me/media?fields=id,permalink&access_token={TOKEN}\")\n",
    "re"
   ]
  },
  {
   "cell_type": "code",
   "execution_count": 28,
   "id": "f106152b-7ddb-49cb-9ab8-4b24eb492475",
   "metadata": {},
   "outputs": [
    {
     "data": {
      "text/plain": [
       "{'data': [{'id': '18008704823380823',\n",
       "   'permalink': 'https://www.instagram.com/reel/C_XCxGDuBH_/'},\n",
       "  {'id': '18282001423225695',\n",
       "   'permalink': 'https://www.instagram.com/reel/C_S4yWgu8Lx/'},\n",
       "  {'id': '17875092474148737',\n",
       "   'permalink': 'https://www.instagram.com/reel/C_SuaGQOPO6/'},\n",
       "  {'id': '17887595298086494',\n",
       "   'permalink': 'https://www.instagram.com/reel/C_Q5gWpuFUq/'},\n",
       "  {'id': '18274225150173359',\n",
       "   'permalink': 'https://www.instagram.com/reel/C_OTQNEuXJY/'},\n",
       "  {'id': '17874755673148958',\n",
       "   'permalink': 'https://www.instagram.com/reel/C_NDBNhoqQs/'}],\n",
       " 'paging': {'cursors': {'before': 'QVFIUk9TdlI4QjdkOTM3NFhCd2FNZA2R3Rkg0NXRSYnhDX2FSdFdLVkpOb29TLXBmLVRiR0s5M0NSS2tHbU8tVXVocFBRRmFabGpYMHBpNGswNndzTnI4ME9n',\n",
       "   'after': 'QVFIUlFWVXYzVGRNc2VQTHBKYmU0T0NoenB6ZAEtKNE5OY2tnb2tKY3REQ003ay1ES2MzbEh6VkcwcU41RE9wbTlSNEhHTG16c1VBMUIxU3dzMjNBT2x0NnFR'}}}"
      ]
     },
     "execution_count": 28,
     "metadata": {},
     "output_type": "execute_result"
    }
   ],
   "source": [
    "re.json()"
   ]
  },
  {
   "cell_type": "code",
   "execution_count": null,
   "id": "631a09c8-2c1b-4dd5-9665-c669ada9851b",
   "metadata": {},
   "outputs": [],
   "source": [
    "https://www.instagram.com/reel/C_xcPitujvt/?utm_source=ig_web_copy_link\n",
    "https://www.instagram.com/p/C_XCxGDuBH_/\n",
    "https://www.instagram.com/reel/C_XCxGDuBH_/?utm_source=ig_web_copy_link&igsh=MzRlODBiNWFlZA==\n",
    "https://www.instagram.com/reel/C_XCxGDuBH_/?utm_source=ig_web_button_share_sheet&igsh=MzRlODBiNWFlZA==\n",
    "https://www.instagram.com/p/CzWq-hutM5d/?utm_source=ig_web_copy_link&igsh=MzRlODBiNWFlZA==\n",
    "https://www.instagram.com/tv/CfOZrWrlpZJ/?utm_source=ig_web_copy_link&igsh=MzRlODBiNWFlZA==\n",
    "https://www.instagram.com/p/C_bAqCvORiN/?igsh=ZmN5bjRqeTZzeXB4\n",
    "https://www.instagram.com/reel/C_kzrwXMVz5/?igsh=aGp1azc4d2V4ZDZ3\n",
    "https://www.instagram.com/reel/C9ORODIyWe9/?igsh=MWZjNmc4OGFoMnJsOQ=="
   ]
  },
  {
   "cell_type": "code",
   "execution_count": null,
   "id": "c3bae7b7-6372-47d5-a758-1ce4ba1f8391",
   "metadata": {},
   "outputs": [],
   "source": [
    "{\n",
    "    'entry': [\n",
    "        {\n",
    "            'id': '17841466514688169',\n",
    "            'time': 1726068893,\n",
    "            'changes': [\n",
    "                {\n",
    "                    'value': {\n",
    "                        'from': {\n",
    "                            'id': '884712273577600',\n",
    "                            'username': 'hfdggdhdd'\n",
    "                        },\n",
    "                        'media': {\n",
    "                            'id': '18282001423225695',\n",
    "                            'media_product_type': 'REELS'\n",
    "                        },\n",
    "                        'id': '18006796052640585',\n",
    "                        'text': 'salom webhook',\n",
    "                        'field': 'comments'\n",
    "                    }\n",
    "                }\n",
    "            ]\n",
    "        }\n",
    "    ],\n",
    "    'object': 'instagram'\n",
    "}"
   ]
  }
 ],
 "metadata": {
  "kernelspec": {
   "display_name": "Python 3 (ipykernel)",
   "language": "python",
   "name": "python3"
  },
  "language_info": {
   "codemirror_mode": {
    "name": "ipython",
    "version": 3
   },
   "file_extension": ".py",
   "mimetype": "text/x-python",
   "name": "python",
   "nbconvert_exporter": "python",
   "pygments_lexer": "ipython3",
   "version": "3.10.12"
  }
 },
 "nbformat": 4,
 "nbformat_minor": 5
}
